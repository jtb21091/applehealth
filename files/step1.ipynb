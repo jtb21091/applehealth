{
 "cells": [
  {
   "cell_type": "code",
   "execution_count": 2,
   "id": "54f57de7-4236-4e30-b013-d5b09be4efe1",
   "metadata": {},
   "outputs": [],
   "source": [
    "import pandas as pd\n",
    "import xml.etree.ElementTree as ET\n",
    "\n",
    "# Parse XML\n",
    "tree = ET.parse('export.xml')\n",
    "root = tree.getroot()\n",
    "\n",
    "# Extract data (Assuming a flat XML structure)\n",
    "data = []\n",
    "for item in root.findall('.//your_item_tag'):  # Replace 'your_item_tag' with the relevant XML tag\n",
    "    row = {child.tag: child.text for child in item}\n",
    "    data.append(row)\n",
    "\n",
    "# Convert to DataFrame\n",
    "df = pd.DataFrame(data)\n",
    "\n",
    "# Save to Excel or CSV\n",
    "df.to_excel('output.xlsx', index=False)\n",
    "df.to_csv('output.csv', index=False)\n"
   ]
  },
  {
   "cell_type": "code",
   "execution_count": null,
   "id": "0f3f466e-1ce1-41a2-b374-73d10fbc4393",
   "metadata": {},
   "outputs": [],
   "source": []
  }
 ],
 "metadata": {
  "kernelspec": {
   "display_name": "Python 3 (ipykernel)",
   "language": "python",
   "name": "python3"
  },
  "language_info": {
   "codemirror_mode": {
    "name": "ipython",
    "version": 3
   },
   "file_extension": ".py",
   "mimetype": "text/x-python",
   "name": "python",
   "nbconvert_exporter": "python",
   "pygments_lexer": "ipython3",
   "version": "3.11.7"
  }
 },
 "nbformat": 4,
 "nbformat_minor": 5
}
